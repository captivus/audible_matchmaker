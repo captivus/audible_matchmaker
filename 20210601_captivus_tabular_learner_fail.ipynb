{
  "nbformat": 4,
  "nbformat_minor": 0,
  "metadata": {
    "colab": {
      "name": "20210601 - captivus tabular learner fail.ipynb",
      "provenance": [],
      "collapsed_sections": [],
      "authorship_tag": "ABX9TyNxZYg3g+0W1WyQI7GbVxk9",
      "include_colab_link": true
    },
    "kernelspec": {
      "name": "python3",
      "display_name": "Python 3"
    },
    "language_info": {
      "name": "python"
    }
  },
  "cells": [
    {
      "cell_type": "markdown",
      "metadata": {
        "id": "view-in-github",
        "colab_type": "text"
      },
      "source": [
        "<a href=\"https://colab.research.google.com/github/captivus/audible_matchmaker/blob/master/20210601_captivus_tabular_learner_fail.ipynb\" target=\"_parent\"><img src=\"https://colab.research.google.com/assets/colab-badge.svg\" alt=\"Open In Colab\"/></a>"
      ]
    },
    {
      "cell_type": "code",
      "metadata": {
        "colab": {
          "base_uri": "https://localhost:8080/"
        },
        "id": "vhEAeUpmzzrz",
        "outputId": "b3dd4960-659b-4184-ab02-35e3cdac2af6"
      },
      "source": [
        "!pip install -Uqq fastai  # upgrade fastai on colab"
      ],
      "execution_count": 1,
      "outputs": [
        {
          "output_type": "stream",
          "text": [
            "\u001b[K     |████████████████████████████████| 204kB 6.9MB/s \n",
            "\u001b[K     |████████████████████████████████| 61kB 6.5MB/s \n",
            "\u001b[?25h"
          ],
          "name": "stdout"
        }
      ]
    },
    {
      "cell_type": "code",
      "metadata": {
        "id": "SMPOPZwP4EPL"
      },
      "source": [
        "from fastai.tabular.all import *"
      ],
      "execution_count": 3,
      "outputs": []
    },
    {
      "cell_type": "code",
      "metadata": {
        "colab": {
          "base_uri": "https://localhost:8080/",
          "height": 206
        },
        "id": "HEEQXSU10s1p",
        "outputId": "e8a61646-f7a7-4cd9-b485-c27e6ede02f3"
      },
      "source": [
        "df = pd.read_csv('https://raw.githubusercontent.com/captivus/20210601---captivus_rental_data_clean_subset/eeeb40777dbe94a10d3c34bce4b39eb6e09a168c/20210601%20-%20captivus_rental_data_clean_subset.csv')\n",
        "df.head()"
      ],
      "execution_count": 5,
      "outputs": [
        {
          "output_type": "execute_result",
          "data": {
            "text/html": [
              "<div>\n",
              "<style scoped>\n",
              "    .dataframe tbody tr th:only-of-type {\n",
              "        vertical-align: middle;\n",
              "    }\n",
              "\n",
              "    .dataframe tbody tr th {\n",
              "        vertical-align: top;\n",
              "    }\n",
              "\n",
              "    .dataframe thead th {\n",
              "        text-align: right;\n",
              "    }\n",
              "</style>\n",
              "<table border=\"1\" class=\"dataframe\">\n",
              "  <thead>\n",
              "    <tr style=\"text-align: right;\">\n",
              "      <th></th>\n",
              "      <th>Rent Price:</th>\n",
              "      <th>List Date:</th>\n",
              "      <th>Year Built:</th>\n",
              "      <th>Township:</th>\n",
              "      <th>Parking:</th>\n",
              "      <th>Rooms:</th>\n",
              "      <th>Bedrooms:</th>\n",
              "    </tr>\n",
              "  </thead>\n",
              "  <tbody>\n",
              "    <tr>\n",
              "      <th>0</th>\n",
              "      <td>900.0</td>\n",
              "      <td>04/17/2020</td>\n",
              "      <td>1976.0</td>\n",
              "      <td>Oswego</td>\n",
              "      <td>Exterior Space(s)</td>\n",
              "      <td>3.0</td>\n",
              "      <td>1.0</td>\n",
              "    </tr>\n",
              "    <tr>\n",
              "      <th>1</th>\n",
              "      <td>1196.0</td>\n",
              "      <td>04/16/2020</td>\n",
              "      <td>1987.0</td>\n",
              "      <td>Naperville</td>\n",
              "      <td>Garage, Exterior Space(s)</td>\n",
              "      <td>4.0</td>\n",
              "      <td>1.0</td>\n",
              "    </tr>\n",
              "    <tr>\n",
              "      <th>2</th>\n",
              "      <td>1540.0</td>\n",
              "      <td>04/16/2020</td>\n",
              "      <td>2019.0</td>\n",
              "      <td>Dundee</td>\n",
              "      <td>Garage, Exterior Space(s)</td>\n",
              "      <td>3.0</td>\n",
              "      <td>1.0</td>\n",
              "    </tr>\n",
              "    <tr>\n",
              "      <th>3</th>\n",
              "      <td>1650.0</td>\n",
              "      <td>04/16/2020</td>\n",
              "      <td>2019.0</td>\n",
              "      <td>Dundee</td>\n",
              "      <td>Garage, Exterior Space(s)</td>\n",
              "      <td>3.0</td>\n",
              "      <td>1.0</td>\n",
              "    </tr>\n",
              "    <tr>\n",
              "      <th>4</th>\n",
              "      <td>1150.0</td>\n",
              "      <td>04/14/2020</td>\n",
              "      <td>1980.0</td>\n",
              "      <td>Hanover</td>\n",
              "      <td>Exterior Space(s)</td>\n",
              "      <td>3.0</td>\n",
              "      <td>1.0</td>\n",
              "    </tr>\n",
              "  </tbody>\n",
              "</table>\n",
              "</div>"
            ],
            "text/plain": [
              "   Rent Price:  List Date:  ...  Rooms: Bedrooms:\n",
              "0        900.0  04/17/2020  ...     3.0       1.0\n",
              "1       1196.0  04/16/2020  ...     4.0       1.0\n",
              "2       1540.0  04/16/2020  ...     3.0       1.0\n",
              "3       1650.0  04/16/2020  ...     3.0       1.0\n",
              "4       1150.0  04/14/2020  ...     3.0       1.0\n",
              "\n",
              "[5 rows x 7 columns]"
            ]
          },
          "metadata": {
            "tags": []
          },
          "execution_count": 5
        }
      ]
    },
    {
      "cell_type": "code",
      "metadata": {
        "id": "MYaryFFx3_y8"
      },
      "source": [
        "cat_names_list = ['List Date:',\t'Township:', 'Parking:']\n",
        "cont_names_list = ['Rent Price:',\t'Year Built:',\t'Rooms:',\t'Bedrooms:']\n",
        "cont_names_list.remove('Rent Price:')"
      ],
      "execution_count": 7,
      "outputs": []
    },
    {
      "cell_type": "code",
      "metadata": {
        "id": "3QcPLY7L4ocG"
      },
      "source": [
        "splits = RandomSplitter(valid_pct=0.20)(range_of(df))\n",
        "tdf = TabularPandas(\n",
        "    df=df,\n",
        "    procs=[Categorify, FillMissing, Normalize],\n",
        "    cat_names=cat_names_list,\n",
        "    cont_names=cont_names_list,\n",
        "    y_names='Rent Price:',\n",
        "    splits=splits\n",
        ")"
      ],
      "execution_count": 8,
      "outputs": []
    },
    {
      "cell_type": "code",
      "metadata": {
        "id": "mCcSzvyB4z5n"
      },
      "source": [
        "dls = tdf.dataloaders(bs=64)"
      ],
      "execution_count": 9,
      "outputs": []
    },
    {
      "cell_type": "code",
      "metadata": {
        "colab": {
          "base_uri": "https://localhost:8080/",
          "height": 363
        },
        "id": "EFIj4xWa406U",
        "outputId": "527f6fc1-dad3-4907-a0be-ec1eb23f6a9a"
      },
      "source": [
        "dls.show_batch()"
      ],
      "execution_count": 10,
      "outputs": [
        {
          "output_type": "display_data",
          "data": {
            "text/html": [
              "<table border=\"1\" class=\"dataframe\">\n",
              "  <thead>\n",
              "    <tr style=\"text-align: right;\">\n",
              "      <th></th>\n",
              "      <th>List Date:</th>\n",
              "      <th>Township:</th>\n",
              "      <th>Parking:</th>\n",
              "      <th>Year Built:_na</th>\n",
              "      <th>Bedrooms:_na</th>\n",
              "      <th>Year Built:</th>\n",
              "      <th>Rooms:</th>\n",
              "      <th>Bedrooms:</th>\n",
              "      <th>Rent Price:</th>\n",
              "    </tr>\n",
              "  </thead>\n",
              "  <tbody>\n",
              "    <tr>\n",
              "      <th>0</th>\n",
              "      <td>02/24/2019</td>\n",
              "      <td>Algonquin</td>\n",
              "      <td>Exterior Space(s)</td>\n",
              "      <td>False</td>\n",
              "      <td>False</td>\n",
              "      <td>1996.000001</td>\n",
              "      <td>4.0</td>\n",
              "      <td>1.0</td>\n",
              "      <td>1150.0</td>\n",
              "    </tr>\n",
              "    <tr>\n",
              "      <th>1</th>\n",
              "      <td>03/09/2020</td>\n",
              "      <td>Aurora</td>\n",
              "      <td>Exterior Space(s)</td>\n",
              "      <td>False</td>\n",
              "      <td>False</td>\n",
              "      <td>1980.000000</td>\n",
              "      <td>3.0</td>\n",
              "      <td>1.0</td>\n",
              "      <td>995.0</td>\n",
              "    </tr>\n",
              "    <tr>\n",
              "      <th>2</th>\n",
              "      <td>03/26/2020</td>\n",
              "      <td>Hanover</td>\n",
              "      <td>Garage</td>\n",
              "      <td>False</td>\n",
              "      <td>False</td>\n",
              "      <td>1995.000000</td>\n",
              "      <td>7.0</td>\n",
              "      <td>3.0</td>\n",
              "      <td>1900.0</td>\n",
              "    </tr>\n",
              "    <tr>\n",
              "      <th>3</th>\n",
              "      <td>05/10/2019</td>\n",
              "      <td>Elgin</td>\n",
              "      <td>Exterior Space(s)</td>\n",
              "      <td>False</td>\n",
              "      <td>False</td>\n",
              "      <td>1919.999998</td>\n",
              "      <td>3.0</td>\n",
              "      <td>1.0</td>\n",
              "      <td>800.0</td>\n",
              "    </tr>\n",
              "    <tr>\n",
              "      <th>4</th>\n",
              "      <td>05/28/2019</td>\n",
              "      <td>Aurora</td>\n",
              "      <td>Exterior Space(s)</td>\n",
              "      <td>False</td>\n",
              "      <td>False</td>\n",
              "      <td>1972.000000</td>\n",
              "      <td>3.0</td>\n",
              "      <td>1.0</td>\n",
              "      <td>1075.0</td>\n",
              "    </tr>\n",
              "    <tr>\n",
              "      <th>5</th>\n",
              "      <td>04/30/2019</td>\n",
              "      <td>McHenry</td>\n",
              "      <td>Exterior Space(s)</td>\n",
              "      <td>False</td>\n",
              "      <td>False</td>\n",
              "      <td>1998.000000</td>\n",
              "      <td>4.0</td>\n",
              "      <td>1.0</td>\n",
              "      <td>1150.0</td>\n",
              "    </tr>\n",
              "    <tr>\n",
              "      <th>6</th>\n",
              "      <td>01/30/2019</td>\n",
              "      <td>Aurora</td>\n",
              "      <td>Exterior Space(s)</td>\n",
              "      <td>False</td>\n",
              "      <td>False</td>\n",
              "      <td>1975.000000</td>\n",
              "      <td>3.0</td>\n",
              "      <td>1.0</td>\n",
              "      <td>875.0</td>\n",
              "    </tr>\n",
              "    <tr>\n",
              "      <th>7</th>\n",
              "      <td>04/16/2020</td>\n",
              "      <td>Algonquin</td>\n",
              "      <td>Garage</td>\n",
              "      <td>False</td>\n",
              "      <td>False</td>\n",
              "      <td>2005.000001</td>\n",
              "      <td>6.0</td>\n",
              "      <td>3.0</td>\n",
              "      <td>1650.0</td>\n",
              "    </tr>\n",
              "    <tr>\n",
              "      <th>8</th>\n",
              "      <td>04/07/2020</td>\n",
              "      <td>Naperville</td>\n",
              "      <td>Garage</td>\n",
              "      <td>False</td>\n",
              "      <td>False</td>\n",
              "      <td>2002.000001</td>\n",
              "      <td>6.0</td>\n",
              "      <td>3.0</td>\n",
              "      <td>1875.0</td>\n",
              "    </tr>\n",
              "    <tr>\n",
              "      <th>9</th>\n",
              "      <td>01/11/2020</td>\n",
              "      <td>Hanover</td>\n",
              "      <td>Exterior Space(s)</td>\n",
              "      <td>False</td>\n",
              "      <td>False</td>\n",
              "      <td>1973.000000</td>\n",
              "      <td>3.0</td>\n",
              "      <td>1.0</td>\n",
              "      <td>1000.0</td>\n",
              "    </tr>\n",
              "  </tbody>\n",
              "</table>"
            ],
            "text/plain": [
              "<IPython.core.display.HTML object>"
            ]
          },
          "metadata": {
            "tags": []
          }
        }
      ]
    },
    {
      "cell_type": "code",
      "metadata": {
        "id": "j9CpgIA842AF"
      },
      "source": [
        "learn = tabular_learner(dls, metrics=accuracy)"
      ],
      "execution_count": 28,
      "outputs": []
    },
    {
      "cell_type": "code",
      "metadata": {
        "colab": {
          "base_uri": "https://localhost:8080/",
          "height": 81
        },
        "id": "wHrvXzt-44AY",
        "outputId": "5756dbd9-d6cd-419d-fced-62a3abd6bee1"
      },
      "source": [
        "learn.fit_one_cycle(1)"
      ],
      "execution_count": 29,
      "outputs": [
        {
          "output_type": "display_data",
          "data": {
            "text/html": [
              "<table border=\"1\" class=\"dataframe\">\n",
              "  <thead>\n",
              "    <tr style=\"text-align: left;\">\n",
              "      <th>epoch</th>\n",
              "      <th>train_loss</th>\n",
              "      <th>valid_loss</th>\n",
              "      <th>accuracy</th>\n",
              "      <th>time</th>\n",
              "    </tr>\n",
              "  </thead>\n",
              "  <tbody>\n",
              "    <tr>\n",
              "      <td>0</td>\n",
              "      <td>1823619.375000</td>\n",
              "      <td>1676697.375000</td>\n",
              "      <td>0.000000</td>\n",
              "      <td>00:00</td>\n",
              "    </tr>\n",
              "  </tbody>\n",
              "</table>"
            ],
            "text/plain": [
              "<IPython.core.display.HTML object>"
            ]
          },
          "metadata": {
            "tags": []
          }
        }
      ]
    },
    {
      "cell_type": "code",
      "metadata": {
        "colab": {
          "base_uri": "https://localhost:8080/",
          "height": 332
        },
        "id": "q5T14gJQ45a1",
        "outputId": "6acfa83a-b277-464b-92e0-e8f2060749a7"
      },
      "source": [
        "learn.show_results()"
      ],
      "execution_count": 30,
      "outputs": [
        {
          "output_type": "display_data",
          "data": {
            "text/html": [
              ""
            ],
            "text/plain": [
              "<IPython.core.display.HTML object>"
            ]
          },
          "metadata": {
            "tags": []
          }
        },
        {
          "output_type": "display_data",
          "data": {
            "text/html": [
              "<table border=\"1\" class=\"dataframe\">\n",
              "  <thead>\n",
              "    <tr style=\"text-align: right;\">\n",
              "      <th></th>\n",
              "      <th>List Date:</th>\n",
              "      <th>Township:</th>\n",
              "      <th>Parking:</th>\n",
              "      <th>Year Built:_na</th>\n",
              "      <th>Bedrooms:_na</th>\n",
              "      <th>Year Built:</th>\n",
              "      <th>Rooms:</th>\n",
              "      <th>Bedrooms:</th>\n",
              "      <th>Rent Price:</th>\n",
              "      <th>Rent Price:_pred</th>\n",
              "    </tr>\n",
              "  </thead>\n",
              "  <tbody>\n",
              "    <tr>\n",
              "      <th>0</th>\n",
              "      <td>194.0</td>\n",
              "      <td>10.0</td>\n",
              "      <td>1.0</td>\n",
              "      <td>1.0</td>\n",
              "      <td>1.0</td>\n",
              "      <td>-1.313952</td>\n",
              "      <td>-0.170243</td>\n",
              "      <td>0.707423</td>\n",
              "      <td>1400.0</td>\n",
              "      <td>0.017574</td>\n",
              "    </tr>\n",
              "    <tr>\n",
              "      <th>1</th>\n",
              "      <td>180.0</td>\n",
              "      <td>2.0</td>\n",
              "      <td>1.0</td>\n",
              "      <td>1.0</td>\n",
              "      <td>1.0</td>\n",
              "      <td>-0.089485</td>\n",
              "      <td>-0.170243</td>\n",
              "      <td>-0.672914</td>\n",
              "      <td>1075.0</td>\n",
              "      <td>-0.045065</td>\n",
              "    </tr>\n",
              "    <tr>\n",
              "      <th>2</th>\n",
              "      <td>58.0</td>\n",
              "      <td>21.0</td>\n",
              "      <td>2.0</td>\n",
              "      <td>1.0</td>\n",
              "      <td>1.0</td>\n",
              "      <td>0.394607</td>\n",
              "      <td>3.376482</td>\n",
              "      <td>2.087760</td>\n",
              "      <td>1595.0</td>\n",
              "      <td>0.362290</td>\n",
              "    </tr>\n",
              "    <tr>\n",
              "      <th>3</th>\n",
              "      <td>50.0</td>\n",
              "      <td>20.0</td>\n",
              "      <td>2.0</td>\n",
              "      <td>1.0</td>\n",
              "      <td>1.0</td>\n",
              "      <td>0.480035</td>\n",
              "      <td>1.248447</td>\n",
              "      <td>0.707423</td>\n",
              "      <td>1500.0</td>\n",
              "      <td>0.126412</td>\n",
              "    </tr>\n",
              "    <tr>\n",
              "      <th>4</th>\n",
              "      <td>75.0</td>\n",
              "      <td>10.0</td>\n",
              "      <td>1.0</td>\n",
              "      <td>1.0</td>\n",
              "      <td>1.0</td>\n",
              "      <td>-2.139755</td>\n",
              "      <td>-2.298278</td>\n",
              "      <td>-0.672914</td>\n",
              "      <td>850.0</td>\n",
              "      <td>-0.111791</td>\n",
              "    </tr>\n",
              "    <tr>\n",
              "      <th>5</th>\n",
              "      <td>114.0</td>\n",
              "      <td>10.0</td>\n",
              "      <td>4.0</td>\n",
              "      <td>1.0</td>\n",
              "      <td>1.0</td>\n",
              "      <td>-1.285476</td>\n",
              "      <td>-1.588933</td>\n",
              "      <td>-0.672914</td>\n",
              "      <td>880.0</td>\n",
              "      <td>-0.092330</td>\n",
              "    </tr>\n",
              "    <tr>\n",
              "      <th>6</th>\n",
              "      <td>150.0</td>\n",
              "      <td>2.0</td>\n",
              "      <td>1.0</td>\n",
              "      <td>1.0</td>\n",
              "      <td>1.0</td>\n",
              "      <td>-0.089485</td>\n",
              "      <td>-0.170243</td>\n",
              "      <td>-0.672914</td>\n",
              "      <td>875.0</td>\n",
              "      <td>-0.043211</td>\n",
              "    </tr>\n",
              "    <tr>\n",
              "      <th>7</th>\n",
              "      <td>22.0</td>\n",
              "      <td>15.0</td>\n",
              "      <td>2.0</td>\n",
              "      <td>1.0</td>\n",
              "      <td>1.0</td>\n",
              "      <td>0.907175</td>\n",
              "      <td>0.539102</td>\n",
              "      <td>0.707423</td>\n",
              "      <td>1495.0</td>\n",
              "      <td>0.095337</td>\n",
              "    </tr>\n",
              "    <tr>\n",
              "      <th>8</th>\n",
              "      <td>73.0</td>\n",
              "      <td>19.0</td>\n",
              "      <td>1.0</td>\n",
              "      <td>1.0</td>\n",
              "      <td>1.0</td>\n",
              "      <td>-0.231864</td>\n",
              "      <td>-0.879588</td>\n",
              "      <td>-0.672914</td>\n",
              "      <td>1000.0</td>\n",
              "      <td>-0.063275</td>\n",
              "    </tr>\n",
              "  </tbody>\n",
              "</table>"
            ],
            "text/plain": [
              "<IPython.core.display.HTML object>"
            ]
          },
          "metadata": {
            "tags": []
          }
        }
      ]
    },
    {
      "cell_type": "code",
      "metadata": {
        "colab": {
          "base_uri": "https://localhost:8080/"
        },
        "id": "vniLPVuJ9yVy",
        "outputId": "48bd28a4-ba6c-4425-89c3-7ca2588ccc18"
      },
      "source": [
        "learn.loss_func"
      ],
      "execution_count": 31,
      "outputs": [
        {
          "output_type": "execute_result",
          "data": {
            "text/plain": [
              "FlattenedLoss of MSELoss()"
            ]
          },
          "metadata": {
            "tags": []
          },
          "execution_count": 31
        }
      ]
    },
    {
      "cell_type": "markdown",
      "metadata": {
        "id": "tdv-XQhv-43T"
      },
      "source": [
        "Rightho -- changing the metric to rmse per the good folks in the FastAI Discord server ..."
      ]
    },
    {
      "cell_type": "code",
      "metadata": {
        "id": "j6C0XCjF460n"
      },
      "source": [
        "learn2 = tabular_learner(dls, metrics=rmse)"
      ],
      "execution_count": 40,
      "outputs": []
    },
    {
      "cell_type": "code",
      "metadata": {
        "colab": {
          "base_uri": "https://localhost:8080/",
          "height": 81
        },
        "id": "s5rgSx748j-K",
        "outputId": "d359a0b1-65d3-4298-9667-1577bb5a0e2b"
      },
      "source": [
        "learn2.fit_one_cycle(1)"
      ],
      "execution_count": 41,
      "outputs": [
        {
          "output_type": "display_data",
          "data": {
            "text/html": [
              "<table border=\"1\" class=\"dataframe\">\n",
              "  <thead>\n",
              "    <tr style=\"text-align: left;\">\n",
              "      <th>epoch</th>\n",
              "      <th>train_loss</th>\n",
              "      <th>valid_loss</th>\n",
              "      <th>_rmse</th>\n",
              "      <th>time</th>\n",
              "    </tr>\n",
              "  </thead>\n",
              "  <tbody>\n",
              "    <tr>\n",
              "      <td>0</td>\n",
              "      <td>1794779.250000</td>\n",
              "      <td>1676673.000000</td>\n",
              "      <td>1294.864136</td>\n",
              "      <td>00:00</td>\n",
              "    </tr>\n",
              "  </tbody>\n",
              "</table>"
            ],
            "text/plain": [
              "<IPython.core.display.HTML object>"
            ]
          },
          "metadata": {
            "tags": []
          }
        }
      ]
    },
    {
      "cell_type": "code",
      "metadata": {
        "colab": {
          "base_uri": "https://localhost:8080/",
          "height": 332
        },
        "id": "QDSD0LwS8nOX",
        "outputId": "3cea4e42-5bf4-4918-c095-83f5e96d2c80"
      },
      "source": [
        "learn2.show_results()"
      ],
      "execution_count": 42,
      "outputs": [
        {
          "output_type": "display_data",
          "data": {
            "text/html": [
              ""
            ],
            "text/plain": [
              "<IPython.core.display.HTML object>"
            ]
          },
          "metadata": {
            "tags": []
          }
        },
        {
          "output_type": "display_data",
          "data": {
            "text/html": [
              "<table border=\"1\" class=\"dataframe\">\n",
              "  <thead>\n",
              "    <tr style=\"text-align: right;\">\n",
              "      <th></th>\n",
              "      <th>List Date:</th>\n",
              "      <th>Township:</th>\n",
              "      <th>Parking:</th>\n",
              "      <th>Year Built:_na</th>\n",
              "      <th>Bedrooms:_na</th>\n",
              "      <th>Year Built:</th>\n",
              "      <th>Rooms:</th>\n",
              "      <th>Bedrooms:</th>\n",
              "      <th>Rent Price:</th>\n",
              "      <th>Rent Price:_pred</th>\n",
              "    </tr>\n",
              "  </thead>\n",
              "  <tbody>\n",
              "    <tr>\n",
              "      <th>0</th>\n",
              "      <td>58.0</td>\n",
              "      <td>1.0</td>\n",
              "      <td>1.0</td>\n",
              "      <td>1.0</td>\n",
              "      <td>1.0</td>\n",
              "      <td>-1.655663</td>\n",
              "      <td>-0.879588</td>\n",
              "      <td>-0.672914</td>\n",
              "      <td>975.0</td>\n",
              "      <td>-0.055521</td>\n",
              "    </tr>\n",
              "    <tr>\n",
              "      <th>1</th>\n",
              "      <td>125.0</td>\n",
              "      <td>10.0</td>\n",
              "      <td>1.0</td>\n",
              "      <td>1.0</td>\n",
              "      <td>1.0</td>\n",
              "      <td>-1.313952</td>\n",
              "      <td>-0.879588</td>\n",
              "      <td>-0.672914</td>\n",
              "      <td>1250.0</td>\n",
              "      <td>-0.049364</td>\n",
              "    </tr>\n",
              "    <tr>\n",
              "      <th>2</th>\n",
              "      <td>92.0</td>\n",
              "      <td>30.0</td>\n",
              "      <td>2.0</td>\n",
              "      <td>1.0</td>\n",
              "      <td>1.0</td>\n",
              "      <td>0.821747</td>\n",
              "      <td>0.539102</td>\n",
              "      <td>0.707423</td>\n",
              "      <td>1550.0</td>\n",
              "      <td>0.124942</td>\n",
              "    </tr>\n",
              "    <tr>\n",
              "      <th>3</th>\n",
              "      <td>158.0</td>\n",
              "      <td>1.0</td>\n",
              "      <td>4.0</td>\n",
              "      <td>1.0</td>\n",
              "      <td>1.0</td>\n",
              "      <td>0.565463</td>\n",
              "      <td>-0.170243</td>\n",
              "      <td>-0.672914</td>\n",
              "      <td>1050.0</td>\n",
              "      <td>0.030284</td>\n",
              "    </tr>\n",
              "    <tr>\n",
              "      <th>4</th>\n",
              "      <td>163.0</td>\n",
              "      <td>13.0</td>\n",
              "      <td>1.0</td>\n",
              "      <td>1.0</td>\n",
              "      <td>1.0</td>\n",
              "      <td>-0.772908</td>\n",
              "      <td>-0.170243</td>\n",
              "      <td>-0.672914</td>\n",
              "      <td>1200.0</td>\n",
              "      <td>-0.005342</td>\n",
              "    </tr>\n",
              "    <tr>\n",
              "      <th>5</th>\n",
              "      <td>66.0</td>\n",
              "      <td>6.0</td>\n",
              "      <td>1.0</td>\n",
              "      <td>1.0</td>\n",
              "      <td>1.0</td>\n",
              "      <td>1.277362</td>\n",
              "      <td>-0.879588</td>\n",
              "      <td>-0.672914</td>\n",
              "      <td>1300.0</td>\n",
              "      <td>0.016423</td>\n",
              "    </tr>\n",
              "    <tr>\n",
              "      <th>6</th>\n",
              "      <td>4.0</td>\n",
              "      <td>25.0</td>\n",
              "      <td>4.0</td>\n",
              "      <td>1.0</td>\n",
              "      <td>1.0</td>\n",
              "      <td>-0.943764</td>\n",
              "      <td>-0.879588</td>\n",
              "      <td>-0.672914</td>\n",
              "      <td>850.0</td>\n",
              "      <td>-0.034380</td>\n",
              "    </tr>\n",
              "    <tr>\n",
              "      <th>7</th>\n",
              "      <td>123.0</td>\n",
              "      <td>25.0</td>\n",
              "      <td>1.0</td>\n",
              "      <td>1.0</td>\n",
              "      <td>1.0</td>\n",
              "      <td>-1.427855</td>\n",
              "      <td>-1.588933</td>\n",
              "      <td>-0.672914</td>\n",
              "      <td>650.0</td>\n",
              "      <td>-0.075523</td>\n",
              "    </tr>\n",
              "    <tr>\n",
              "      <th>8</th>\n",
              "      <td>46.0</td>\n",
              "      <td>11.0</td>\n",
              "      <td>1.0</td>\n",
              "      <td>1.0</td>\n",
              "      <td>1.0</td>\n",
              "      <td>-0.715956</td>\n",
              "      <td>0.539102</td>\n",
              "      <td>0.707423</td>\n",
              "      <td>1200.0</td>\n",
              "      <td>0.070260</td>\n",
              "    </tr>\n",
              "  </tbody>\n",
              "</table>"
            ],
            "text/plain": [
              "<IPython.core.display.HTML object>"
            ]
          },
          "metadata": {
            "tags": []
          }
        }
      ]
    },
    {
      "cell_type": "code",
      "metadata": {
        "colab": {
          "base_uri": "https://localhost:8080/",
          "height": 312
        },
        "id": "IeWXI2PA8769",
        "outputId": "d47cb6da-cc06-41ae-a76c-091d7df95604"
      },
      "source": [
        "learn2.lr_find()"
      ],
      "execution_count": 43,
      "outputs": [
        {
          "output_type": "display_data",
          "data": {
            "text/html": [
              ""
            ],
            "text/plain": [
              "<IPython.core.display.HTML object>"
            ]
          },
          "metadata": {
            "tags": []
          }
        },
        {
          "output_type": "execute_result",
          "data": {
            "text/plain": [
              "SuggestedLRs(lr_min=0.33113112449646, lr_steep=0.43651583790779114)"
            ]
          },
          "metadata": {
            "tags": []
          },
          "execution_count": 43
        },
        {
          "output_type": "display_data",
          "data": {
            "image/png": "[encoded data removed]",
            "text/plain": [
              "<Figure size 432x288 with 1 Axes>"
            ]
          },
          "metadata": {
            "tags": [],
            "needs_background": "light"
          }
        }
      ]
    },
    {
      "cell_type": "code",
      "metadata": {
        "colab": {
          "base_uri": "https://localhost:8080/",
          "height": 520
        },
        "id": "J5AlyMpj_ev8",
        "outputId": "c10c91dc-5e60-4815-8cb6-ff69cf6990e4"
      },
      "source": [
        "learn2.fit_one_cycle(n_epoch=15, lr_max=0.33113112449646)"
      ],
      "execution_count": 44,
      "outputs": [
        {
          "output_type": "display_data",
          "data": {
            "text/html": [
              "<table border=\"1\" class=\"dataframe\">\n",
              "  <thead>\n",
              "    <tr style=\"text-align: left;\">\n",
              "      <th>epoch</th>\n",
              "      <th>train_loss</th>\n",
              "      <th>valid_loss</th>\n",
              "      <th>_rmse</th>\n",
              "      <th>time</th>\n",
              "    </tr>\n",
              "  </thead>\n",
              "  <tbody>\n",
              "    <tr>\n",
              "      <td>0</td>\n",
              "      <td>1780558.500000</td>\n",
              "      <td>1681775.875000</td>\n",
              "      <td>1296.833008</td>\n",
              "      <td>00:00</td>\n",
              "    </tr>\n",
              "    <tr>\n",
              "      <td>1</td>\n",
              "      <td>1752206.500000</td>\n",
              "      <td>1628746.625000</td>\n",
              "      <td>1276.223633</td>\n",
              "      <td>00:00</td>\n",
              "    </tr>\n",
              "    <tr>\n",
              "      <td>2</td>\n",
              "      <td>1567385.625000</td>\n",
              "      <td>4695101.500000</td>\n",
              "      <td>2166.818359</td>\n",
              "      <td>00:00</td>\n",
              "    </tr>\n",
              "    <tr>\n",
              "      <td>3</td>\n",
              "      <td>1192478.750000</td>\n",
              "      <td>1049873.125000</td>\n",
              "      <td>1024.633179</td>\n",
              "      <td>00:00</td>\n",
              "    </tr>\n",
              "    <tr>\n",
              "      <td>4</td>\n",
              "      <td>936559.125000</td>\n",
              "      <td>216838.734375</td>\n",
              "      <td>465.659424</td>\n",
              "      <td>00:00</td>\n",
              "    </tr>\n",
              "    <tr>\n",
              "      <td>5</td>\n",
              "      <td>745520.375000</td>\n",
              "      <td>310229.750000</td>\n",
              "      <td>556.982727</td>\n",
              "      <td>00:00</td>\n",
              "    </tr>\n",
              "    <tr>\n",
              "      <td>6</td>\n",
              "      <td>605777.750000</td>\n",
              "      <td>116190.750000</td>\n",
              "      <td>340.867645</td>\n",
              "      <td>00:00</td>\n",
              "    </tr>\n",
              "    <tr>\n",
              "      <td>7</td>\n",
              "      <td>501642.250000</td>\n",
              "      <td>46963.039062</td>\n",
              "      <td>216.709579</td>\n",
              "      <td>00:00</td>\n",
              "    </tr>\n",
              "    <tr>\n",
              "      <td>8</td>\n",
              "      <td>420739.312500</td>\n",
              "      <td>51540.375000</td>\n",
              "      <td>227.025055</td>\n",
              "      <td>00:00</td>\n",
              "    </tr>\n",
              "    <tr>\n",
              "      <td>9</td>\n",
              "      <td>357851.718750</td>\n",
              "      <td>54445.210938</td>\n",
              "      <td>233.334976</td>\n",
              "      <td>00:00</td>\n",
              "    </tr>\n",
              "    <tr>\n",
              "      <td>10</td>\n",
              "      <td>305075.531250</td>\n",
              "      <td>53843.867188</td>\n",
              "      <td>232.042801</td>\n",
              "      <td>00:00</td>\n",
              "    </tr>\n",
              "    <tr>\n",
              "      <td>11</td>\n",
              "      <td>263935.625000</td>\n",
              "      <td>55657.777344</td>\n",
              "      <td>235.919006</td>\n",
              "      <td>00:00</td>\n",
              "    </tr>\n",
              "    <tr>\n",
              "      <td>12</td>\n",
              "      <td>229659.281250</td>\n",
              "      <td>53402.621094</td>\n",
              "      <td>231.090073</td>\n",
              "      <td>00:00</td>\n",
              "    </tr>\n",
              "    <tr>\n",
              "      <td>13</td>\n",
              "      <td>200353.984375</td>\n",
              "      <td>53289.347656</td>\n",
              "      <td>230.844879</td>\n",
              "      <td>00:00</td>\n",
              "    </tr>\n",
              "    <tr>\n",
              "      <td>14</td>\n",
              "      <td>176479.343750</td>\n",
              "      <td>53867.824219</td>\n",
              "      <td>232.094437</td>\n",
              "      <td>00:00</td>\n",
              "    </tr>\n",
              "  </tbody>\n",
              "</table>"
            ],
            "text/plain": [
              "<IPython.core.display.HTML object>"
            ]
          },
          "metadata": {
            "tags": []
          }
        }
      ]
    },
    {
      "cell_type": "code",
      "metadata": {
        "colab": {
          "base_uri": "https://localhost:8080/",
          "height": 332
        },
        "id": "fOwsTYk3_4vs",
        "outputId": "93f1c438-5713-4580-c529-409568f348e8"
      },
      "source": [
        "learn2.show_results()"
      ],
      "execution_count": 45,
      "outputs": [
        {
          "output_type": "display_data",
          "data": {
            "text/html": [
              ""
            ],
            "text/plain": [
              "<IPython.core.display.HTML object>"
            ]
          },
          "metadata": {
            "tags": []
          }
        },
        {
          "output_type": "display_data",
          "data": {
            "text/html": [
              "<table border=\"1\" class=\"dataframe\">\n",
              "  <thead>\n",
              "    <tr style=\"text-align: right;\">\n",
              "      <th></th>\n",
              "      <th>List Date:</th>\n",
              "      <th>Township:</th>\n",
              "      <th>Parking:</th>\n",
              "      <th>Year Built:_na</th>\n",
              "      <th>Bedrooms:_na</th>\n",
              "      <th>Year Built:</th>\n",
              "      <th>Rooms:</th>\n",
              "      <th>Bedrooms:</th>\n",
              "      <th>Rent Price:</th>\n",
              "      <th>Rent Price:_pred</th>\n",
              "    </tr>\n",
              "  </thead>\n",
              "  <tbody>\n",
              "    <tr>\n",
              "      <th>0</th>\n",
              "      <td>114.0</td>\n",
              "      <td>10.0</td>\n",
              "      <td>4.0</td>\n",
              "      <td>1.0</td>\n",
              "      <td>1.0</td>\n",
              "      <td>-1.285476</td>\n",
              "      <td>-1.588933</td>\n",
              "      <td>-0.672914</td>\n",
              "      <td>880.0</td>\n",
              "      <td>1123.370972</td>\n",
              "    </tr>\n",
              "    <tr>\n",
              "      <th>1</th>\n",
              "      <td>93.0</td>\n",
              "      <td>24.0</td>\n",
              "      <td>4.0</td>\n",
              "      <td>1.0</td>\n",
              "      <td>1.0</td>\n",
              "      <td>0.935651</td>\n",
              "      <td>-0.170243</td>\n",
              "      <td>-0.672914</td>\n",
              "      <td>1725.0</td>\n",
              "      <td>1670.433228</td>\n",
              "    </tr>\n",
              "    <tr>\n",
              "      <th>2</th>\n",
              "      <td>213.0</td>\n",
              "      <td>10.0</td>\n",
              "      <td>4.0</td>\n",
              "      <td>1.0</td>\n",
              "      <td>1.0</td>\n",
              "      <td>0.764795</td>\n",
              "      <td>-0.170243</td>\n",
              "      <td>-0.672914</td>\n",
              "      <td>640.0</td>\n",
              "      <td>1496.054688</td>\n",
              "    </tr>\n",
              "    <tr>\n",
              "      <th>3</th>\n",
              "      <td>101.0</td>\n",
              "      <td>1.0</td>\n",
              "      <td>2.0</td>\n",
              "      <td>1.0</td>\n",
              "      <td>1.0</td>\n",
              "      <td>0.565463</td>\n",
              "      <td>0.539102</td>\n",
              "      <td>0.707423</td>\n",
              "      <td>1495.0</td>\n",
              "      <td>1401.902344</td>\n",
              "    </tr>\n",
              "    <tr>\n",
              "      <th>4</th>\n",
              "      <td>101.0</td>\n",
              "      <td>10.0</td>\n",
              "      <td>1.0</td>\n",
              "      <td>1.0</td>\n",
              "      <td>1.0</td>\n",
              "      <td>-0.488148</td>\n",
              "      <td>-0.879588</td>\n",
              "      <td>-0.672914</td>\n",
              "      <td>800.0</td>\n",
              "      <td>1005.371948</td>\n",
              "    </tr>\n",
              "    <tr>\n",
              "      <th>5</th>\n",
              "      <td>128.0</td>\n",
              "      <td>1.0</td>\n",
              "      <td>1.0</td>\n",
              "      <td>1.0</td>\n",
              "      <td>1.0</td>\n",
              "      <td>-0.032533</td>\n",
              "      <td>-0.170243</td>\n",
              "      <td>-0.672914</td>\n",
              "      <td>1150.0</td>\n",
              "      <td>1178.558105</td>\n",
              "    </tr>\n",
              "    <tr>\n",
              "      <th>6</th>\n",
              "      <td>50.0</td>\n",
              "      <td>20.0</td>\n",
              "      <td>2.0</td>\n",
              "      <td>1.0</td>\n",
              "      <td>1.0</td>\n",
              "      <td>0.480035</td>\n",
              "      <td>1.248447</td>\n",
              "      <td>0.707423</td>\n",
              "      <td>1500.0</td>\n",
              "      <td>1450.394043</td>\n",
              "    </tr>\n",
              "    <tr>\n",
              "      <th>7</th>\n",
              "      <td>88.0</td>\n",
              "      <td>5.0</td>\n",
              "      <td>2.0</td>\n",
              "      <td>2.0</td>\n",
              "      <td>1.0</td>\n",
              "      <td>0.366131</td>\n",
              "      <td>1.248447</td>\n",
              "      <td>2.087760</td>\n",
              "      <td>1795.0</td>\n",
              "      <td>1412.745728</td>\n",
              "    </tr>\n",
              "    <tr>\n",
              "      <th>8</th>\n",
              "      <td>156.0</td>\n",
              "      <td>16.0</td>\n",
              "      <td>1.0</td>\n",
              "      <td>1.0</td>\n",
              "      <td>1.0</td>\n",
              "      <td>-0.431196</td>\n",
              "      <td>-0.879588</td>\n",
              "      <td>-0.672914</td>\n",
              "      <td>850.0</td>\n",
              "      <td>1010.597168</td>\n",
              "    </tr>\n",
              "  </tbody>\n",
              "</table>"
            ],
            "text/plain": [
              "<IPython.core.display.HTML object>"
            ]
          },
          "metadata": {
            "tags": []
          }
        }
      ]
    }
  ]
}